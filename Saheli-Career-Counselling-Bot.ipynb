{
 "cells": [
  {
   "cell_type": "code",
   "execution_count": 15,
   "metadata": {},
   "outputs": [],
   "source": [
    "import pandas as pd\n",
    "import numpy as np\n",
    "from sklearn import decomposition\n",
    "import matplotlib.pyplot as plt"
   ]
  },
  {
   "cell_type": "code",
   "execution_count": 16,
   "metadata": {},
   "outputs": [],
   "source": [
    "dataset = pd.read_csv(\"roo_data.csv\")"
   ]
  },
  {
   "cell_type": "code",
   "execution_count": 17,
   "metadata": {},
   "outputs": [
    {
     "data": {
      "text/plain": [
       "0                               Database Developer\n",
       "1                             Portal Administrator\n",
       "2                             Portal Administrator\n",
       "3                   Systems Security Administrator\n",
       "4                         Business Systems Analyst\n",
       "                           ...                    \n",
       "19995                           Technical Engineer\n",
       "19996                           E-Commerce Analyst\n",
       "19997                Business Intelligence Analyst\n",
       "19998    Software Quality Assurance (QA) / Testing\n",
       "19999                       Applications Developer\n",
       "Name: Suggested Job Role, Length: 20000, dtype: object"
      ]
     },
     "execution_count": 17,
     "metadata": {},
     "output_type": "execute_result"
    }
   ],
   "source": [
    "dataset.iloc[:,-1]"
   ]
  },
  {
   "cell_type": "code",
   "execution_count": 18,
   "metadata": {},
   "outputs": [
    {
     "data": {
      "text/plain": [
       "38"
      ]
     },
     "execution_count": 18,
     "metadata": {},
     "output_type": "execute_result"
    }
   ],
   "source": [
    "data = dataset.iloc[:,:-1].values\n",
    "label = dataset.iloc[:,-1].values\n",
    "l=12\n",
    "len(data[0])"
   ]
  },
  {
   "cell_type": "code",
   "execution_count": 19,
   "metadata": {},
   "outputs": [
    {
     "data": {
      "text/html": [
       "<div>\n",
       "<style scoped>\n",
       "    .dataframe tbody tr th:only-of-type {\n",
       "        vertical-align: middle;\n",
       "    }\n",
       "\n",
       "    .dataframe tbody tr th {\n",
       "        vertical-align: top;\n",
       "    }\n",
       "\n",
       "    .dataframe thead th {\n",
       "        text-align: right;\n",
       "    }\n",
       "</style>\n",
       "<table border=\"1\" class=\"dataframe\">\n",
       "  <thead>\n",
       "    <tr style=\"text-align: right;\">\n",
       "      <th></th>\n",
       "      <th>can work long time before system?</th>\n",
       "      <th>self-learning capability?</th>\n",
       "      <th>Extra-courses did</th>\n",
       "      <th>certifications</th>\n",
       "      <th>workshops</th>\n",
       "      <th>talenttests taken?</th>\n",
       "      <th>olympiads</th>\n",
       "      <th>reading and writing skills</th>\n",
       "      <th>memory capability score</th>\n",
       "      <th>Interested subjects</th>\n",
       "      <th>...</th>\n",
       "      <th>interested in games</th>\n",
       "      <th>Interested Type of Books</th>\n",
       "      <th>Salary Range Expected</th>\n",
       "      <th>In a Realtionship?</th>\n",
       "      <th>Gentle or Tuff behaviour?</th>\n",
       "      <th>Management or Technical</th>\n",
       "      <th>Salary/work</th>\n",
       "      <th>hard/smart worker</th>\n",
       "      <th>worked in teams ever?</th>\n",
       "      <th>Introvert</th>\n",
       "    </tr>\n",
       "  </thead>\n",
       "  <tbody>\n",
       "    <tr>\n",
       "      <th>0</th>\n",
       "      <td>yes</td>\n",
       "      <td>yes</td>\n",
       "      <td>yes</td>\n",
       "      <td>shell programming</td>\n",
       "      <td>cloud computing</td>\n",
       "      <td>no</td>\n",
       "      <td>yes</td>\n",
       "      <td>excellent</td>\n",
       "      <td>excellent</td>\n",
       "      <td>cloud computing</td>\n",
       "      <td>...</td>\n",
       "      <td>no</td>\n",
       "      <td>Prayer books</td>\n",
       "      <td>salary</td>\n",
       "      <td>no</td>\n",
       "      <td>stubborn</td>\n",
       "      <td>Management</td>\n",
       "      <td>salary</td>\n",
       "      <td>hard worker</td>\n",
       "      <td>yes</td>\n",
       "      <td>no</td>\n",
       "    </tr>\n",
       "    <tr>\n",
       "      <th>1</th>\n",
       "      <td>yes</td>\n",
       "      <td>no</td>\n",
       "      <td>yes</td>\n",
       "      <td>machine learning</td>\n",
       "      <td>database security</td>\n",
       "      <td>no</td>\n",
       "      <td>no</td>\n",
       "      <td>poor</td>\n",
       "      <td>medium</td>\n",
       "      <td>networks</td>\n",
       "      <td>...</td>\n",
       "      <td>yes</td>\n",
       "      <td>Childrens</td>\n",
       "      <td>salary</td>\n",
       "      <td>yes</td>\n",
       "      <td>gentle</td>\n",
       "      <td>Technical</td>\n",
       "      <td>salary</td>\n",
       "      <td>hard worker</td>\n",
       "      <td>no</td>\n",
       "      <td>yes</td>\n",
       "    </tr>\n",
       "    <tr>\n",
       "      <th>2</th>\n",
       "      <td>yes</td>\n",
       "      <td>no</td>\n",
       "      <td>yes</td>\n",
       "      <td>app development</td>\n",
       "      <td>web technologies</td>\n",
       "      <td>no</td>\n",
       "      <td>yes</td>\n",
       "      <td>poor</td>\n",
       "      <td>excellent</td>\n",
       "      <td>hacking</td>\n",
       "      <td>...</td>\n",
       "      <td>yes</td>\n",
       "      <td>Travel</td>\n",
       "      <td>Work</td>\n",
       "      <td>no</td>\n",
       "      <td>stubborn</td>\n",
       "      <td>Management</td>\n",
       "      <td>work</td>\n",
       "      <td>hard worker</td>\n",
       "      <td>no</td>\n",
       "      <td>yes</td>\n",
       "    </tr>\n",
       "    <tr>\n",
       "      <th>3</th>\n",
       "      <td>no</td>\n",
       "      <td>yes</td>\n",
       "      <td>no</td>\n",
       "      <td>python</td>\n",
       "      <td>data science</td>\n",
       "      <td>yes</td>\n",
       "      <td>no</td>\n",
       "      <td>medium</td>\n",
       "      <td>excellent</td>\n",
       "      <td>networks</td>\n",
       "      <td>...</td>\n",
       "      <td>no</td>\n",
       "      <td>Romance</td>\n",
       "      <td>Work</td>\n",
       "      <td>yes</td>\n",
       "      <td>gentle</td>\n",
       "      <td>Management</td>\n",
       "      <td>work</td>\n",
       "      <td>smart worker</td>\n",
       "      <td>yes</td>\n",
       "      <td>yes</td>\n",
       "    </tr>\n",
       "    <tr>\n",
       "      <th>4</th>\n",
       "      <td>no</td>\n",
       "      <td>no</td>\n",
       "      <td>no</td>\n",
       "      <td>app development</td>\n",
       "      <td>cloud computing</td>\n",
       "      <td>no</td>\n",
       "      <td>no</td>\n",
       "      <td>poor</td>\n",
       "      <td>excellent</td>\n",
       "      <td>Computer Architecture</td>\n",
       "      <td>...</td>\n",
       "      <td>yes</td>\n",
       "      <td>Cookbooks</td>\n",
       "      <td>salary</td>\n",
       "      <td>no</td>\n",
       "      <td>stubborn</td>\n",
       "      <td>Management</td>\n",
       "      <td>work</td>\n",
       "      <td>hard worker</td>\n",
       "      <td>yes</td>\n",
       "      <td>yes</td>\n",
       "    </tr>\n",
       "    <tr>\n",
       "      <th>...</th>\n",
       "      <td>...</td>\n",
       "      <td>...</td>\n",
       "      <td>...</td>\n",
       "      <td>...</td>\n",
       "      <td>...</td>\n",
       "      <td>...</td>\n",
       "      <td>...</td>\n",
       "      <td>...</td>\n",
       "      <td>...</td>\n",
       "      <td>...</td>\n",
       "      <td>...</td>\n",
       "      <td>...</td>\n",
       "      <td>...</td>\n",
       "      <td>...</td>\n",
       "      <td>...</td>\n",
       "      <td>...</td>\n",
       "      <td>...</td>\n",
       "      <td>...</td>\n",
       "      <td>...</td>\n",
       "      <td>...</td>\n",
       "      <td>...</td>\n",
       "    </tr>\n",
       "    <tr>\n",
       "      <th>19995</th>\n",
       "      <td>yes</td>\n",
       "      <td>no</td>\n",
       "      <td>no</td>\n",
       "      <td>app development</td>\n",
       "      <td>cloud computing</td>\n",
       "      <td>yes</td>\n",
       "      <td>no</td>\n",
       "      <td>poor</td>\n",
       "      <td>excellent</td>\n",
       "      <td>Software Engineering</td>\n",
       "      <td>...</td>\n",
       "      <td>yes</td>\n",
       "      <td>Journals</td>\n",
       "      <td>Work</td>\n",
       "      <td>yes</td>\n",
       "      <td>stubborn</td>\n",
       "      <td>Management</td>\n",
       "      <td>salary</td>\n",
       "      <td>smart worker</td>\n",
       "      <td>yes</td>\n",
       "      <td>no</td>\n",
       "    </tr>\n",
       "    <tr>\n",
       "      <th>19996</th>\n",
       "      <td>yes</td>\n",
       "      <td>no</td>\n",
       "      <td>no</td>\n",
       "      <td>full stack</td>\n",
       "      <td>game development</td>\n",
       "      <td>no</td>\n",
       "      <td>yes</td>\n",
       "      <td>medium</td>\n",
       "      <td>excellent</td>\n",
       "      <td>Management</td>\n",
       "      <td>...</td>\n",
       "      <td>yes</td>\n",
       "      <td>Cookbooks</td>\n",
       "      <td>salary</td>\n",
       "      <td>no</td>\n",
       "      <td>stubborn</td>\n",
       "      <td>Management</td>\n",
       "      <td>salary</td>\n",
       "      <td>hard worker</td>\n",
       "      <td>no</td>\n",
       "      <td>yes</td>\n",
       "    </tr>\n",
       "    <tr>\n",
       "      <th>19997</th>\n",
       "      <td>yes</td>\n",
       "      <td>yes</td>\n",
       "      <td>yes</td>\n",
       "      <td>information security</td>\n",
       "      <td>database security</td>\n",
       "      <td>yes</td>\n",
       "      <td>yes</td>\n",
       "      <td>medium</td>\n",
       "      <td>excellent</td>\n",
       "      <td>networks</td>\n",
       "      <td>...</td>\n",
       "      <td>yes</td>\n",
       "      <td>Drama</td>\n",
       "      <td>Work</td>\n",
       "      <td>yes</td>\n",
       "      <td>gentle</td>\n",
       "      <td>Technical</td>\n",
       "      <td>work</td>\n",
       "      <td>hard worker</td>\n",
       "      <td>no</td>\n",
       "      <td>yes</td>\n",
       "    </tr>\n",
       "    <tr>\n",
       "      <th>19998</th>\n",
       "      <td>no</td>\n",
       "      <td>no</td>\n",
       "      <td>no</td>\n",
       "      <td>full stack</td>\n",
       "      <td>cloud computing</td>\n",
       "      <td>no</td>\n",
       "      <td>yes</td>\n",
       "      <td>poor</td>\n",
       "      <td>poor</td>\n",
       "      <td>IOT</td>\n",
       "      <td>...</td>\n",
       "      <td>no</td>\n",
       "      <td>Travel</td>\n",
       "      <td>Work</td>\n",
       "      <td>no</td>\n",
       "      <td>gentle</td>\n",
       "      <td>Management</td>\n",
       "      <td>work</td>\n",
       "      <td>smart worker</td>\n",
       "      <td>yes</td>\n",
       "      <td>no</td>\n",
       "    </tr>\n",
       "    <tr>\n",
       "      <th>19999</th>\n",
       "      <td>yes</td>\n",
       "      <td>yes</td>\n",
       "      <td>yes</td>\n",
       "      <td>app development</td>\n",
       "      <td>database security</td>\n",
       "      <td>no</td>\n",
       "      <td>yes</td>\n",
       "      <td>excellent</td>\n",
       "      <td>excellent</td>\n",
       "      <td>IOT</td>\n",
       "      <td>...</td>\n",
       "      <td>no</td>\n",
       "      <td>Comics</td>\n",
       "      <td>Work</td>\n",
       "      <td>no</td>\n",
       "      <td>gentle</td>\n",
       "      <td>Management</td>\n",
       "      <td>work</td>\n",
       "      <td>hard worker</td>\n",
       "      <td>yes</td>\n",
       "      <td>no</td>\n",
       "    </tr>\n",
       "  </tbody>\n",
       "</table>\n",
       "<p>20000 rows × 24 columns</p>\n",
       "</div>"
      ],
      "text/plain": [
       "      can work long time before system? self-learning capability?  \\\n",
       "0                                   yes                       yes   \n",
       "1                                   yes                        no   \n",
       "2                                   yes                        no   \n",
       "3                                    no                       yes   \n",
       "4                                    no                        no   \n",
       "...                                 ...                       ...   \n",
       "19995                               yes                        no   \n",
       "19996                               yes                        no   \n",
       "19997                               yes                       yes   \n",
       "19998                                no                        no   \n",
       "19999                               yes                       yes   \n",
       "\n",
       "      Extra-courses did        certifications          workshops  \\\n",
       "0                   yes     shell programming    cloud computing   \n",
       "1                   yes      machine learning  database security   \n",
       "2                   yes       app development   web technologies   \n",
       "3                    no                python       data science   \n",
       "4                    no       app development    cloud computing   \n",
       "...                 ...                   ...                ...   \n",
       "19995                no       app development    cloud computing   \n",
       "19996                no            full stack   game development   \n",
       "19997               yes  information security  database security   \n",
       "19998                no            full stack    cloud computing   \n",
       "19999               yes       app development  database security   \n",
       "\n",
       "      talenttests taken? olympiads reading and writing skills  \\\n",
       "0                     no       yes                  excellent   \n",
       "1                     no        no                       poor   \n",
       "2                     no       yes                       poor   \n",
       "3                    yes        no                     medium   \n",
       "4                     no        no                       poor   \n",
       "...                  ...       ...                        ...   \n",
       "19995                yes        no                       poor   \n",
       "19996                 no       yes                     medium   \n",
       "19997                yes       yes                     medium   \n",
       "19998                 no       yes                       poor   \n",
       "19999                 no       yes                  excellent   \n",
       "\n",
       "      memory capability score    Interested subjects  ... interested in games  \\\n",
       "0                   excellent        cloud computing  ...                  no   \n",
       "1                      medium               networks  ...                 yes   \n",
       "2                   excellent                hacking  ...                 yes   \n",
       "3                   excellent               networks  ...                  no   \n",
       "4                   excellent  Computer Architecture  ...                 yes   \n",
       "...                       ...                    ...  ...                 ...   \n",
       "19995               excellent   Software Engineering  ...                 yes   \n",
       "19996               excellent             Management  ...                 yes   \n",
       "19997               excellent               networks  ...                 yes   \n",
       "19998                    poor                    IOT  ...                  no   \n",
       "19999               excellent                    IOT  ...                  no   \n",
       "\n",
       "      Interested Type of Books Salary Range Expected In a Realtionship?  \\\n",
       "0                 Prayer books                salary                 no   \n",
       "1                    Childrens                salary                yes   \n",
       "2                       Travel                  Work                 no   \n",
       "3                      Romance                  Work                yes   \n",
       "4                    Cookbooks                salary                 no   \n",
       "...                        ...                   ...                ...   \n",
       "19995                 Journals                  Work                yes   \n",
       "19996                Cookbooks                salary                 no   \n",
       "19997                    Drama                  Work                yes   \n",
       "19998                   Travel                  Work                 no   \n",
       "19999                   Comics                  Work                 no   \n",
       "\n",
       "      Gentle or Tuff behaviour? Management or Technical Salary/work  \\\n",
       "0                      stubborn              Management      salary   \n",
       "1                        gentle               Technical      salary   \n",
       "2                      stubborn              Management        work   \n",
       "3                        gentle              Management        work   \n",
       "4                      stubborn              Management        work   \n",
       "...                         ...                     ...         ...   \n",
       "19995                  stubborn              Management      salary   \n",
       "19996                  stubborn              Management      salary   \n",
       "19997                    gentle               Technical        work   \n",
       "19998                    gentle              Management        work   \n",
       "19999                    gentle              Management        work   \n",
       "\n",
       "      hard/smart worker worked in teams ever? Introvert  \n",
       "0           hard worker                   yes        no  \n",
       "1           hard worker                    no       yes  \n",
       "2           hard worker                    no       yes  \n",
       "3          smart worker                   yes       yes  \n",
       "4           hard worker                   yes       yes  \n",
       "...                 ...                   ...       ...  \n",
       "19995      smart worker                   yes        no  \n",
       "19996       hard worker                    no       yes  \n",
       "19997       hard worker                    no       yes  \n",
       "19998      smart worker                   yes        no  \n",
       "19999       hard worker                   yes        no  \n",
       "\n",
       "[20000 rows x 24 columns]"
      ]
     },
     "execution_count": 19,
     "metadata": {},
     "output_type": "execute_result"
    }
   ],
   "source": [
    "dataset.iloc[:,14:38]"
   ]
  },
  {
   "cell_type": "code",
   "execution_count": 20,
   "metadata": {},
   "outputs": [],
   "source": [
    "from sklearn.preprocessing import LabelEncoder, OneHotEncoder"
   ]
  },
  {
   "cell_type": "code",
   "execution_count": 21,
   "metadata": {},
   "outputs": [],
   "source": [
    "labelencoder = LabelEncoder()"
   ]
  },
  {
   "cell_type": "code",
   "execution_count": 22,
   "metadata": {},
   "outputs": [
    {
     "data": {
      "text/plain": [
       "array([[69, 63, 78, 87, 94, 94, 87, 84, 61, 9, 4, 0, 4, 8, 1, 1, 1, 8, 0,\n",
       "        0, 1, 0, 0, 4, 4, 0, 8, 0, 0, 21, 1, 0, 1, 0, 0, 0, 1, 0],\n",
       "       [78, 62, 73, 60, 71, 70, 73, 84, 91, 12, 7, 1, 2, 3, 1, 0, 1, 5,\n",
       "        2, 0, 0, 2, 1, 7, 0, 1, 4, 1, 1, 5, 1, 1, 0, 1, 0, 0, 0, 1],\n",
       "       [71, 86, 91, 87, 61, 81, 72, 72, 94, 11, 1, 4, 1, 3, 1, 0, 1, 0,\n",
       "        7, 0, 1, 2, 0, 6, 2, 0, 5, 1, 1, 29, 0, 0, 1, 0, 1, 0, 0, 1],\n",
       "       [76, 87, 60, 84, 89, 73, 62, 88, 69, 7, 1, 1, 2, 5, 0, 1, 0, 6, 1,\n",
       "        1, 0, 1, 0, 7, 5, 0, 7, 0, 0, 23, 0, 1, 0, 0, 1, 1, 1, 1],\n",
       "       [92, 62, 90, 67, 71, 89, 73, 71, 73, 4, 5, 4, 6, 3, 0, 0, 0, 0, 0,\n",
       "        0, 0, 2, 0, 0, 5, 0, 9, 0, 1, 7, 1, 0, 1, 0, 1, 0, 1, 1]],\n",
       "      dtype=object)"
      ]
     },
     "execution_count": 22,
     "metadata": {},
     "output_type": "execute_result"
    }
   ],
   "source": [
    "for i in range(14,38):\n",
    "    data[:,i] = labelencoder.fit_transform(data[:,i])\n",
    "data[:5]"
   ]
  },
  {
   "cell_type": "code",
   "execution_count": 23,
   "metadata": {},
   "outputs": [
    {
     "data": {
      "text/html": [
       "<div>\n",
       "<style scoped>\n",
       "    .dataframe tbody tr th:only-of-type {\n",
       "        vertical-align: middle;\n",
       "    }\n",
       "\n",
       "    .dataframe tbody tr th {\n",
       "        vertical-align: top;\n",
       "    }\n",
       "\n",
       "    .dataframe thead th {\n",
       "        text-align: right;\n",
       "    }\n",
       "</style>\n",
       "<table border=\"1\" class=\"dataframe\">\n",
       "  <thead>\n",
       "    <tr style=\"text-align: right;\">\n",
       "      <th></th>\n",
       "      <th>Acedamic percentage in Operating Systems</th>\n",
       "      <th>percentage in Algorithms</th>\n",
       "      <th>Percentage in Programming Concepts</th>\n",
       "      <th>Percentage in Software Engineering</th>\n",
       "      <th>Percentage in Computer Networks</th>\n",
       "      <th>Percentage in Electronics Subjects</th>\n",
       "      <th>Percentage in Computer Architecture</th>\n",
       "      <th>Percentage in Mathematics</th>\n",
       "      <th>Percentage in Communication skills</th>\n",
       "      <th>Hours working per day</th>\n",
       "      <th>Logical quotient rating</th>\n",
       "      <th>hackathons</th>\n",
       "      <th>coding skills rating</th>\n",
       "      <th>public speaking points</th>\n",
       "    </tr>\n",
       "  </thead>\n",
       "  <tbody>\n",
       "    <tr>\n",
       "      <th>0</th>\n",
       "      <td>69</td>\n",
       "      <td>63</td>\n",
       "      <td>78</td>\n",
       "      <td>87</td>\n",
       "      <td>94</td>\n",
       "      <td>94</td>\n",
       "      <td>87</td>\n",
       "      <td>84</td>\n",
       "      <td>61</td>\n",
       "      <td>9</td>\n",
       "      <td>4</td>\n",
       "      <td>0</td>\n",
       "      <td>4</td>\n",
       "      <td>8</td>\n",
       "    </tr>\n",
       "    <tr>\n",
       "      <th>1</th>\n",
       "      <td>78</td>\n",
       "      <td>62</td>\n",
       "      <td>73</td>\n",
       "      <td>60</td>\n",
       "      <td>71</td>\n",
       "      <td>70</td>\n",
       "      <td>73</td>\n",
       "      <td>84</td>\n",
       "      <td>91</td>\n",
       "      <td>12</td>\n",
       "      <td>7</td>\n",
       "      <td>1</td>\n",
       "      <td>2</td>\n",
       "      <td>3</td>\n",
       "    </tr>\n",
       "    <tr>\n",
       "      <th>2</th>\n",
       "      <td>71</td>\n",
       "      <td>86</td>\n",
       "      <td>91</td>\n",
       "      <td>87</td>\n",
       "      <td>61</td>\n",
       "      <td>81</td>\n",
       "      <td>72</td>\n",
       "      <td>72</td>\n",
       "      <td>94</td>\n",
       "      <td>11</td>\n",
       "      <td>1</td>\n",
       "      <td>4</td>\n",
       "      <td>1</td>\n",
       "      <td>3</td>\n",
       "    </tr>\n",
       "    <tr>\n",
       "      <th>3</th>\n",
       "      <td>76</td>\n",
       "      <td>87</td>\n",
       "      <td>60</td>\n",
       "      <td>84</td>\n",
       "      <td>89</td>\n",
       "      <td>73</td>\n",
       "      <td>62</td>\n",
       "      <td>88</td>\n",
       "      <td>69</td>\n",
       "      <td>7</td>\n",
       "      <td>1</td>\n",
       "      <td>1</td>\n",
       "      <td>2</td>\n",
       "      <td>5</td>\n",
       "    </tr>\n",
       "    <tr>\n",
       "      <th>4</th>\n",
       "      <td>92</td>\n",
       "      <td>62</td>\n",
       "      <td>90</td>\n",
       "      <td>67</td>\n",
       "      <td>71</td>\n",
       "      <td>89</td>\n",
       "      <td>73</td>\n",
       "      <td>71</td>\n",
       "      <td>73</td>\n",
       "      <td>4</td>\n",
       "      <td>5</td>\n",
       "      <td>4</td>\n",
       "      <td>6</td>\n",
       "      <td>3</td>\n",
       "    </tr>\n",
       "    <tr>\n",
       "      <th>...</th>\n",
       "      <td>...</td>\n",
       "      <td>...</td>\n",
       "      <td>...</td>\n",
       "      <td>...</td>\n",
       "      <td>...</td>\n",
       "      <td>...</td>\n",
       "      <td>...</td>\n",
       "      <td>...</td>\n",
       "      <td>...</td>\n",
       "      <td>...</td>\n",
       "      <td>...</td>\n",
       "      <td>...</td>\n",
       "      <td>...</td>\n",
       "      <td>...</td>\n",
       "    </tr>\n",
       "    <tr>\n",
       "      <th>19995</th>\n",
       "      <td>83</td>\n",
       "      <td>67</td>\n",
       "      <td>62</td>\n",
       "      <td>63</td>\n",
       "      <td>81</td>\n",
       "      <td>74</td>\n",
       "      <td>90</td>\n",
       "      <td>84</td>\n",
       "      <td>69</td>\n",
       "      <td>4</td>\n",
       "      <td>2</td>\n",
       "      <td>6</td>\n",
       "      <td>1</td>\n",
       "      <td>8</td>\n",
       "    </tr>\n",
       "    <tr>\n",
       "      <th>19996</th>\n",
       "      <td>80</td>\n",
       "      <td>69</td>\n",
       "      <td>83</td>\n",
       "      <td>87</td>\n",
       "      <td>82</td>\n",
       "      <td>66</td>\n",
       "      <td>66</td>\n",
       "      <td>92</td>\n",
       "      <td>67</td>\n",
       "      <td>7</td>\n",
       "      <td>8</td>\n",
       "      <td>0</td>\n",
       "      <td>9</td>\n",
       "      <td>8</td>\n",
       "    </tr>\n",
       "    <tr>\n",
       "      <th>19997</th>\n",
       "      <td>83</td>\n",
       "      <td>70</td>\n",
       "      <td>80</td>\n",
       "      <td>87</td>\n",
       "      <td>64</td>\n",
       "      <td>85</td>\n",
       "      <td>69</td>\n",
       "      <td>94</td>\n",
       "      <td>88</td>\n",
       "      <td>7</td>\n",
       "      <td>3</td>\n",
       "      <td>6</td>\n",
       "      <td>2</td>\n",
       "      <td>3</td>\n",
       "    </tr>\n",
       "    <tr>\n",
       "      <th>19998</th>\n",
       "      <td>68</td>\n",
       "      <td>87</td>\n",
       "      <td>91</td>\n",
       "      <td>88</td>\n",
       "      <td>66</td>\n",
       "      <td>74</td>\n",
       "      <td>61</td>\n",
       "      <td>87</td>\n",
       "      <td>61</td>\n",
       "      <td>5</td>\n",
       "      <td>1</td>\n",
       "      <td>4</td>\n",
       "      <td>9</td>\n",
       "      <td>5</td>\n",
       "    </tr>\n",
       "    <tr>\n",
       "      <th>19999</th>\n",
       "      <td>73</td>\n",
       "      <td>77</td>\n",
       "      <td>74</td>\n",
       "      <td>84</td>\n",
       "      <td>70</td>\n",
       "      <td>65</td>\n",
       "      <td>92</td>\n",
       "      <td>73</td>\n",
       "      <td>90</td>\n",
       "      <td>7</td>\n",
       "      <td>3</td>\n",
       "      <td>1</td>\n",
       "      <td>7</td>\n",
       "      <td>6</td>\n",
       "    </tr>\n",
       "  </tbody>\n",
       "</table>\n",
       "<p>20000 rows × 14 columns</p>\n",
       "</div>"
      ],
      "text/plain": [
       "       Acedamic percentage in Operating Systems  percentage in Algorithms  \\\n",
       "0                                            69                        63   \n",
       "1                                            78                        62   \n",
       "2                                            71                        86   \n",
       "3                                            76                        87   \n",
       "4                                            92                        62   \n",
       "...                                         ...                       ...   \n",
       "19995                                        83                        67   \n",
       "19996                                        80                        69   \n",
       "19997                                        83                        70   \n",
       "19998                                        68                        87   \n",
       "19999                                        73                        77   \n",
       "\n",
       "       Percentage in Programming Concepts  Percentage in Software Engineering  \\\n",
       "0                                      78                                  87   \n",
       "1                                      73                                  60   \n",
       "2                                      91                                  87   \n",
       "3                                      60                                  84   \n",
       "4                                      90                                  67   \n",
       "...                                   ...                                 ...   \n",
       "19995                                  62                                  63   \n",
       "19996                                  83                                  87   \n",
       "19997                                  80                                  87   \n",
       "19998                                  91                                  88   \n",
       "19999                                  74                                  84   \n",
       "\n",
       "       Percentage in Computer Networks  Percentage in Electronics Subjects  \\\n",
       "0                                   94                                  94   \n",
       "1                                   71                                  70   \n",
       "2                                   61                                  81   \n",
       "3                                   89                                  73   \n",
       "4                                   71                                  89   \n",
       "...                                ...                                 ...   \n",
       "19995                               81                                  74   \n",
       "19996                               82                                  66   \n",
       "19997                               64                                  85   \n",
       "19998                               66                                  74   \n",
       "19999                               70                                  65   \n",
       "\n",
       "       Percentage in Computer Architecture  Percentage in Mathematics  \\\n",
       "0                                       87                         84   \n",
       "1                                       73                         84   \n",
       "2                                       72                         72   \n",
       "3                                       62                         88   \n",
       "4                                       73                         71   \n",
       "...                                    ...                        ...   \n",
       "19995                                   90                         84   \n",
       "19996                                   66                         92   \n",
       "19997                                   69                         94   \n",
       "19998                                   61                         87   \n",
       "19999                                   92                         73   \n",
       "\n",
       "       Percentage in Communication skills  Hours working per day  \\\n",
       "0                                      61                      9   \n",
       "1                                      91                     12   \n",
       "2                                      94                     11   \n",
       "3                                      69                      7   \n",
       "4                                      73                      4   \n",
       "...                                   ...                    ...   \n",
       "19995                                  69                      4   \n",
       "19996                                  67                      7   \n",
       "19997                                  88                      7   \n",
       "19998                                  61                      5   \n",
       "19999                                  90                      7   \n",
       "\n",
       "       Logical quotient rating  hackathons  coding skills rating  \\\n",
       "0                            4           0                     4   \n",
       "1                            7           1                     2   \n",
       "2                            1           4                     1   \n",
       "3                            1           1                     2   \n",
       "4                            5           4                     6   \n",
       "...                        ...         ...                   ...   \n",
       "19995                        2           6                     1   \n",
       "19996                        8           0                     9   \n",
       "19997                        3           6                     2   \n",
       "19998                        1           4                     9   \n",
       "19999                        3           1                     7   \n",
       "\n",
       "       public speaking points  \n",
       "0                           8  \n",
       "1                           3  \n",
       "2                           3  \n",
       "3                           5  \n",
       "4                           3  \n",
       "...                       ...  \n",
       "19995                       8  \n",
       "19996                       8  \n",
       "19997                       3  \n",
       "19998                       5  \n",
       "19999                       6  \n",
       "\n",
       "[20000 rows x 14 columns]"
      ]
     },
     "execution_count": 23,
     "metadata": {},
     "output_type": "execute_result"
    }
   ],
   "source": [
    "dataset.iloc[:,:14]"
   ]
  },
  {
   "cell_type": "code",
   "execution_count": 24,
   "metadata": {},
   "outputs": [
    {
     "data": {
      "text/plain": [
       "array([[1, 1, 1, 8, 0, 0, 1, 0, 0, 4, 4, 0, 8, 0, 0, 21, 1, 0, 1, 0, 0,\n",
       "        0, 1, 0],\n",
       "       [1, 0, 1, 5, 2, 0, 0, 2, 1, 7, 0, 1, 4, 1, 1, 5, 1, 1, 0, 1, 0, 0,\n",
       "        0, 1],\n",
       "       [1, 0, 1, 0, 7, 0, 1, 2, 0, 6, 2, 0, 5, 1, 1, 29, 0, 0, 1, 0, 1,\n",
       "        0, 0, 1],\n",
       "       [0, 1, 0, 6, 1, 1, 0, 1, 0, 7, 5, 0, 7, 0, 0, 23, 0, 1, 0, 0, 1,\n",
       "        1, 1, 1],\n",
       "       [0, 0, 0, 0, 0, 0, 0, 2, 0, 0, 5, 0, 9, 0, 1, 7, 1, 0, 1, 0, 1, 0,\n",
       "        1, 1]], dtype=object)"
      ]
     },
     "execution_count": 24,
     "metadata": {},
     "output_type": "execute_result"
    }
   ],
   "source": [
    "data[:5,14:]"
   ]
  },
  {
   "cell_type": "code",
   "execution_count": 25,
   "metadata": {},
   "outputs": [],
   "source": [
    "from sklearn.preprocessing import Normalizer"
   ]
  },
  {
   "cell_type": "code",
   "execution_count": 26,
   "metadata": {},
   "outputs": [],
   "source": [
    "data1=data[:,:14]"
   ]
  },
  {
   "cell_type": "code",
   "execution_count": 27,
   "metadata": {},
   "outputs": [
    {
     "name": "stdout",
     "output_type": "stream",
     "text": [
      "(20000, 14)\n"
     ]
    }
   ],
   "source": [
    "normalized_data = Normalizer().fit_transform(data1)\n",
    "print(normalized_data.shape)"
   ]
  },
  {
   "cell_type": "code",
   "execution_count": 28,
   "metadata": {},
   "outputs": [
    {
     "data": {
      "text/plain": [
       "array([[0.28508989, 0.26029947, 0.32227553, ..., 0.        , 0.01652695,\n",
       "        0.0330539 ],\n",
       "       [0.34997994, 0.27818918, 0.32754533, ..., 0.00448692, 0.00897384,\n",
       "        0.01346077],\n",
       "       [0.29501244, 0.35733901, 0.37811453, ..., 0.01662042, 0.0041551 ,\n",
       "        0.01246531],\n",
       "       ...,\n",
       "       [0.3430836 , 0.28934762, 0.33068299, ..., 0.02480122, 0.00826707,\n",
       "        0.01240061],\n",
       "       [0.29479246, 0.37716094, 0.39450167, ..., 0.01734073, 0.03901665,\n",
       "        0.02167592],\n",
       "       [0.31140896, 0.32847247, 0.31567484, ..., 0.00426588, 0.02986113,\n",
       "        0.02559526]])"
      ]
     },
     "execution_count": 28,
     "metadata": {},
     "output_type": "execute_result"
    }
   ],
   "source": [
    "normalized_data"
   ]
  },
  {
   "cell_type": "code",
   "execution_count": 29,
   "metadata": {},
   "outputs": [
    {
     "data": {
      "text/plain": [
       "(20000, 24)"
      ]
     },
     "execution_count": 29,
     "metadata": {},
     "output_type": "execute_result"
    }
   ],
   "source": [
    "data2=data[:,14:]\n",
    "data2.shape"
   ]
  },
  {
   "cell_type": "code",
   "execution_count": 30,
   "metadata": {},
   "outputs": [
    {
     "data": {
      "text/plain": [
       "(20000, 38)"
      ]
     },
     "execution_count": 30,
     "metadata": {},
     "output_type": "execute_result"
    }
   ],
   "source": [
    "df1 = np.append(normalized_data,data2,axis=1)\n",
    "df1.shape"
   ]
  },
  {
   "cell_type": "code",
   "execution_count": 31,
   "metadata": {},
   "outputs": [
    {
     "data": {
      "text/html": [
       "<div>\n",
       "<style scoped>\n",
       "    .dataframe tbody tr th:only-of-type {\n",
       "        vertical-align: middle;\n",
       "    }\n",
       "\n",
       "    .dataframe tbody tr th {\n",
       "        vertical-align: top;\n",
       "    }\n",
       "\n",
       "    .dataframe thead th {\n",
       "        text-align: right;\n",
       "    }\n",
       "</style>\n",
       "<table border=\"1\" class=\"dataframe\">\n",
       "  <thead>\n",
       "    <tr style=\"text-align: right;\">\n",
       "      <th></th>\n",
       "      <th>Acedamic percentage in Operating Systems</th>\n",
       "      <th>percentage in Algorithms</th>\n",
       "      <th>Percentage in Programming Concepts</th>\n",
       "      <th>Percentage in Software Engineering</th>\n",
       "      <th>Percentage in Computer Networks</th>\n",
       "      <th>Percentage in Electronics Subjects</th>\n",
       "      <th>Percentage in Computer Architecture</th>\n",
       "      <th>Percentage in Mathematics</th>\n",
       "      <th>Percentage in Communication skills</th>\n",
       "      <th>Hours working per day</th>\n",
       "      <th>...</th>\n",
       "      <th>interested in games</th>\n",
       "      <th>Interested Type of Books</th>\n",
       "      <th>Salary Range Expected</th>\n",
       "      <th>In a Realtionship?</th>\n",
       "      <th>Gentle or Tuff behaviour?</th>\n",
       "      <th>Management or Technical</th>\n",
       "      <th>Salary/work</th>\n",
       "      <th>hard/smart worker</th>\n",
       "      <th>worked in teams ever?</th>\n",
       "      <th>Introvert</th>\n",
       "    </tr>\n",
       "  </thead>\n",
       "  <tbody>\n",
       "    <tr>\n",
       "      <th>0</th>\n",
       "      <td>0.28509</td>\n",
       "      <td>0.260299</td>\n",
       "      <td>0.322276</td>\n",
       "      <td>0.359461</td>\n",
       "      <td>0.388383</td>\n",
       "      <td>0.388383</td>\n",
       "      <td>0.359461</td>\n",
       "      <td>0.347066</td>\n",
       "      <td>0.252036</td>\n",
       "      <td>0.0371856</td>\n",
       "      <td>...</td>\n",
       "      <td>0</td>\n",
       "      <td>21</td>\n",
       "      <td>1</td>\n",
       "      <td>0</td>\n",
       "      <td>1</td>\n",
       "      <td>0</td>\n",
       "      <td>0</td>\n",
       "      <td>0</td>\n",
       "      <td>1</td>\n",
       "      <td>0</td>\n",
       "    </tr>\n",
       "    <tr>\n",
       "      <th>1</th>\n",
       "      <td>0.34998</td>\n",
       "      <td>0.278189</td>\n",
       "      <td>0.327545</td>\n",
       "      <td>0.269215</td>\n",
       "      <td>0.318571</td>\n",
       "      <td>0.314085</td>\n",
       "      <td>0.327545</td>\n",
       "      <td>0.376901</td>\n",
       "      <td>0.40831</td>\n",
       "      <td>0.0538431</td>\n",
       "      <td>...</td>\n",
       "      <td>1</td>\n",
       "      <td>5</td>\n",
       "      <td>1</td>\n",
       "      <td>1</td>\n",
       "      <td>0</td>\n",
       "      <td>1</td>\n",
       "      <td>0</td>\n",
       "      <td>0</td>\n",
       "      <td>0</td>\n",
       "      <td>1</td>\n",
       "    </tr>\n",
       "    <tr>\n",
       "      <th>2</th>\n",
       "      <td>0.295012</td>\n",
       "      <td>0.357339</td>\n",
       "      <td>0.378115</td>\n",
       "      <td>0.361494</td>\n",
       "      <td>0.253461</td>\n",
       "      <td>0.336563</td>\n",
       "      <td>0.299168</td>\n",
       "      <td>0.299168</td>\n",
       "      <td>0.39058</td>\n",
       "      <td>0.0457062</td>\n",
       "      <td>...</td>\n",
       "      <td>1</td>\n",
       "      <td>29</td>\n",
       "      <td>0</td>\n",
       "      <td>0</td>\n",
       "      <td>1</td>\n",
       "      <td>0</td>\n",
       "      <td>1</td>\n",
       "      <td>0</td>\n",
       "      <td>0</td>\n",
       "      <td>1</td>\n",
       "    </tr>\n",
       "    <tr>\n",
       "      <th>3</th>\n",
       "      <td>0.328025</td>\n",
       "      <td>0.375503</td>\n",
       "      <td>0.258967</td>\n",
       "      <td>0.362554</td>\n",
       "      <td>0.384135</td>\n",
       "      <td>0.315077</td>\n",
       "      <td>0.2676</td>\n",
       "      <td>0.379819</td>\n",
       "      <td>0.297812</td>\n",
       "      <td>0.0302129</td>\n",
       "      <td>...</td>\n",
       "      <td>0</td>\n",
       "      <td>23</td>\n",
       "      <td>0</td>\n",
       "      <td>1</td>\n",
       "      <td>0</td>\n",
       "      <td>0</td>\n",
       "      <td>1</td>\n",
       "      <td>1</td>\n",
       "      <td>1</td>\n",
       "      <td>1</td>\n",
       "    </tr>\n",
       "    <tr>\n",
       "      <th>4</th>\n",
       "      <td>0.397157</td>\n",
       "      <td>0.267649</td>\n",
       "      <td>0.388523</td>\n",
       "      <td>0.289234</td>\n",
       "      <td>0.306502</td>\n",
       "      <td>0.384206</td>\n",
       "      <td>0.315136</td>\n",
       "      <td>0.306502</td>\n",
       "      <td>0.315136</td>\n",
       "      <td>0.0172677</td>\n",
       "      <td>...</td>\n",
       "      <td>1</td>\n",
       "      <td>7</td>\n",
       "      <td>1</td>\n",
       "      <td>0</td>\n",
       "      <td>1</td>\n",
       "      <td>0</td>\n",
       "      <td>1</td>\n",
       "      <td>0</td>\n",
       "      <td>1</td>\n",
       "      <td>1</td>\n",
       "    </tr>\n",
       "  </tbody>\n",
       "</table>\n",
       "<p>5 rows × 38 columns</p>\n",
       "</div>"
      ],
      "text/plain": [
       "  Acedamic percentage in Operating Systems percentage in Algorithms  \\\n",
       "0                                  0.28509                 0.260299   \n",
       "1                                  0.34998                 0.278189   \n",
       "2                                 0.295012                 0.357339   \n",
       "3                                 0.328025                 0.375503   \n",
       "4                                 0.397157                 0.267649   \n",
       "\n",
       "  Percentage in Programming Concepts Percentage in Software Engineering  \\\n",
       "0                           0.322276                           0.359461   \n",
       "1                           0.327545                           0.269215   \n",
       "2                           0.378115                           0.361494   \n",
       "3                           0.258967                           0.362554   \n",
       "4                           0.388523                           0.289234   \n",
       "\n",
       "  Percentage in Computer Networks Percentage in Electronics Subjects  \\\n",
       "0                        0.388383                           0.388383   \n",
       "1                        0.318571                           0.314085   \n",
       "2                        0.253461                           0.336563   \n",
       "3                        0.384135                           0.315077   \n",
       "4                        0.306502                           0.384206   \n",
       "\n",
       "  Percentage in Computer Architecture Percentage in Mathematics  \\\n",
       "0                            0.359461                  0.347066   \n",
       "1                            0.327545                  0.376901   \n",
       "2                            0.299168                  0.299168   \n",
       "3                              0.2676                  0.379819   \n",
       "4                            0.315136                  0.306502   \n",
       "\n",
       "  Percentage in Communication skills Hours working per day  ...  \\\n",
       "0                           0.252036             0.0371856  ...   \n",
       "1                            0.40831             0.0538431  ...   \n",
       "2                            0.39058             0.0457062  ...   \n",
       "3                           0.297812             0.0302129  ...   \n",
       "4                           0.315136             0.0172677  ...   \n",
       "\n",
       "  interested in games Interested Type of Books Salary Range Expected  \\\n",
       "0                   0                       21                     1   \n",
       "1                   1                        5                     1   \n",
       "2                   1                       29                     0   \n",
       "3                   0                       23                     0   \n",
       "4                   1                        7                     1   \n",
       "\n",
       "  In a Realtionship? Gentle or Tuff behaviour? Management or Technical  \\\n",
       "0                  0                         1                       0   \n",
       "1                  1                         0                       1   \n",
       "2                  0                         1                       0   \n",
       "3                  1                         0                       0   \n",
       "4                  0                         1                       0   \n",
       "\n",
       "  Salary/work hard/smart worker worked in teams ever? Introvert  \n",
       "0           0                 0                     1         0  \n",
       "1           0                 0                     0         1  \n",
       "2           1                 0                     0         1  \n",
       "3           1                 1                     1         1  \n",
       "4           1                 0                     1         1  \n",
       "\n",
       "[5 rows x 38 columns]"
      ]
     },
     "execution_count": 31,
     "metadata": {},
     "output_type": "execute_result"
    }
   ],
   "source": [
    "## adding headers\n",
    "\n",
    "X1 = pd.DataFrame(df1,columns=['Acedamic percentage in Operating Systems', 'percentage in Algorithms',\n",
    "       'Percentage in Programming Concepts',\n",
    "       'Percentage in Software Engineering', 'Percentage in Computer Networks',\n",
    "       'Percentage in Electronics Subjects',\n",
    "       'Percentage in Computer Architecture', 'Percentage in Mathematics',\n",
    "       'Percentage in Communication skills', 'Hours working per day',\n",
    "       'Logical quotient rating', 'hackathons', 'coding skills rating',\n",
    "       'public speaking points', 'can work long time before system?',\n",
    "       'self-learning capability?', 'Extra-courses did', 'certifications',\n",
    "       'workshops', 'talenttests taken?', 'olympiads',\n",
    "       'reading and writing skills', 'memory capability score',\n",
    "       'Interested subjects', 'interested career area ', 'Job/Higher Studies?',\n",
    "       'Type of company want to settle in?',\n",
    "       'Taken inputs from seniors or elders', 'interested in games',\n",
    "       'Interested Type of Books', 'Salary Range Expected',\n",
    "       'In a Realtionship?', 'Gentle or Tuff behaviour?',\n",
    "       'Management or Technical', 'Salary/work', 'hard/smart worker',\n",
    "       'worked in teams ever?', 'Introvert'])\n",
    "\n",
    "X1.head()"
   ]
  },
  {
   "cell_type": "code",
   "execution_count": 32,
   "metadata": {},
   "outputs": [],
   "source": [
    "label1=dataset.iloc[:,-1]"
   ]
  },
  {
   "cell_type": "code",
   "execution_count": 33,
   "metadata": {},
   "outputs": [
    {
     "data": {
      "text/plain": [
       "0                               Database Developer\n",
       "1                             Portal Administrator\n",
       "2                             Portal Administrator\n",
       "3                   Systems Security Administrator\n",
       "4                         Business Systems Analyst\n",
       "                           ...                    \n",
       "19995                           Technical Engineer\n",
       "19996                           E-Commerce Analyst\n",
       "19997                Business Intelligence Analyst\n",
       "19998    Software Quality Assurance (QA) / Testing\n",
       "19999                       Applications Developer\n",
       "Name: Suggested Job Role, Length: 20000, dtype: object"
      ]
     },
     "execution_count": 33,
     "metadata": {},
     "output_type": "execute_result"
    }
   ],
   "source": [
    "label1"
   ]
  },
  {
   "cell_type": "code",
   "execution_count": 34,
   "metadata": {},
   "outputs": [],
   "source": [
    "arr=np.unique(label1)"
   ]
  },
  {
   "cell_type": "code",
   "execution_count": 35,
   "metadata": {},
   "outputs": [],
   "source": [
    "Dict = {}\n",
    "for i in range(0,34): \n",
    "    Dict[arr[i]] = i"
   ]
  },
  {
   "cell_type": "code",
   "execution_count": 36,
   "metadata": {},
   "outputs": [
    {
     "data": {
      "text/plain": [
       "{'Applications Developer': 0,\n",
       " 'Business Intelligence Analyst': 1,\n",
       " 'Business Systems Analyst': 2,\n",
       " 'CRM Business Analyst': 3,\n",
       " 'CRM Technical Developer': 4,\n",
       " 'Data Architect': 5,\n",
       " 'Database Administrator': 6,\n",
       " 'Database Developer': 7,\n",
       " 'Database Manager': 8,\n",
       " 'Design & UX': 9,\n",
       " 'E-Commerce Analyst': 10,\n",
       " 'Information Security Analyst': 11,\n",
       " 'Information Technology Auditor': 12,\n",
       " 'Information Technology Manager': 13,\n",
       " 'Mobile Applications Developer': 14,\n",
       " 'Network Engineer': 15,\n",
       " 'Network Security Administrator': 16,\n",
       " 'Network Security Engineer': 17,\n",
       " 'Portal Administrator': 18,\n",
       " 'Programmer Analyst': 19,\n",
       " 'Project Manager': 20,\n",
       " 'Quality Assurance Associate': 21,\n",
       " 'Software Developer': 22,\n",
       " 'Software Engineer': 23,\n",
       " 'Software Quality Assurance (QA) / Testing': 24,\n",
       " 'Software Systems Engineer': 25,\n",
       " 'Solutions Architect': 26,\n",
       " 'Systems Analyst': 27,\n",
       " 'Systems Security Administrator': 28,\n",
       " 'Technical Engineer': 29,\n",
       " 'Technical Services/Help Desk/Tech Support': 30,\n",
       " 'Technical Support': 31,\n",
       " 'UX Designer': 32,\n",
       " 'Web Developer': 33}"
      ]
     },
     "execution_count": 36,
     "metadata": {},
     "output_type": "execute_result"
    }
   ],
   "source": [
    "Dict"
   ]
  },
  {
   "cell_type": "code",
   "execution_count": 37,
   "metadata": {},
   "outputs": [
    {
     "name": "stdout",
     "output_type": "stream",
     "text": [
      "20000\n"
     ]
    }
   ],
   "source": [
    "label = labelencoder.fit_transform(label)\n",
    "print(len(label))"
   ]
  },
  {
   "cell_type": "code",
   "execution_count": 38,
   "metadata": {},
   "outputs": [
    {
     "data": {
      "text/html": [
       "<div>\n",
       "<style scoped>\n",
       "    .dataframe tbody tr th:only-of-type {\n",
       "        vertical-align: middle;\n",
       "    }\n",
       "\n",
       "    .dataframe tbody tr th {\n",
       "        vertical-align: top;\n",
       "    }\n",
       "\n",
       "    .dataframe thead th {\n",
       "        text-align: right;\n",
       "    }\n",
       "</style>\n",
       "<table border=\"1\" class=\"dataframe\">\n",
       "  <thead>\n",
       "    <tr style=\"text-align: right;\">\n",
       "      <th></th>\n",
       "      <th>Suggested Job Role</th>\n",
       "    </tr>\n",
       "  </thead>\n",
       "  <tbody>\n",
       "    <tr>\n",
       "      <th>0</th>\n",
       "      <td>7</td>\n",
       "    </tr>\n",
       "    <tr>\n",
       "      <th>1</th>\n",
       "      <td>18</td>\n",
       "    </tr>\n",
       "    <tr>\n",
       "      <th>2</th>\n",
       "      <td>18</td>\n",
       "    </tr>\n",
       "    <tr>\n",
       "      <th>3</th>\n",
       "      <td>28</td>\n",
       "    </tr>\n",
       "    <tr>\n",
       "      <th>4</th>\n",
       "      <td>2</td>\n",
       "    </tr>\n",
       "  </tbody>\n",
       "</table>\n",
       "</div>"
      ],
      "text/plain": [
       "   Suggested Job Role\n",
       "0                   7\n",
       "1                  18\n",
       "2                  18\n",
       "3                  28\n",
       "4                   2"
      ]
     },
     "execution_count": 38,
     "metadata": {},
     "output_type": "execute_result"
    }
   ],
   "source": [
    "y=pd.DataFrame(label,columns=[\"Suggested Job Role\"])\n",
    "y.head()"
   ]
  },
  {
   "cell_type": "markdown",
   "metadata": {},
   "source": [
    "# Decision Tree Classifier"
   ]
  },
  {
   "cell_type": "code",
   "execution_count": 39,
   "metadata": {},
   "outputs": [],
   "source": [
    "from sklearn import tree\n",
    "from sklearn.model_selection import train_test_split\n",
    "from sklearn import preprocessing \n",
    "from sklearn.metrics import accuracy_score\n",
    "from sklearn import tree\n",
    "from sklearn.model_selection import train_test_split\n",
    "from sklearn import preprocessing \n",
    "from sklearn.metrics import accuracy_score\n",
    "X_train,X_test,y_train,y_test=train_test_split(X1,y,test_size=0.2,random_state=10) "
   ]
  },
  {
   "cell_type": "code",
   "execution_count": 40,
   "metadata": {},
   "outputs": [],
   "source": [
    "clf = tree.DecisionTreeClassifier()\n",
    "clf = clf.fit(X_train, y_train)"
   ]
  },
  {
   "cell_type": "code",
   "execution_count": 41,
   "metadata": {},
   "outputs": [],
   "source": [
    "from sklearn.metrics import confusion_matrix,accuracy_score"
   ]
  },
  {
   "cell_type": "code",
   "execution_count": 42,
   "metadata": {},
   "outputs": [],
   "source": [
    "y_pred = clf.predict(X_test)"
   ]
  },
  {
   "cell_type": "code",
   "execution_count": 43,
   "metadata": {},
   "outputs": [
    {
     "data": {
      "text/plain": [
       "array([29,  6,  5, ..., 23, 17, 15])"
      ]
     },
     "execution_count": 43,
     "metadata": {},
     "output_type": "execute_result"
    }
   ],
   "source": [
    "y_pred"
   ]
  },
  {
   "cell_type": "code",
   "execution_count": 44,
   "metadata": {},
   "outputs": [],
   "source": [
    "cm = confusion_matrix(y_test,y_pred)\n",
    "accuracy = accuracy_score(y_test,y_pred)"
   ]
  },
  {
   "cell_type": "code",
   "execution_count": 45,
   "metadata": {},
   "outputs": [
    {
     "name": "stdout",
     "output_type": "stream",
     "text": [
      "confusion matrics= [[ 1  9  2 ...  6  3  1]\n",
      " [ 2  4  3 ...  4  1  5]\n",
      " [ 1  4  0 ...  4  5  4]\n",
      " ...\n",
      " [ 4  2  4 ...  3  1  6]\n",
      " [ 4  3  1 ... 10  5  3]\n",
      " [ 2  6  0 ...  2  2  3]]\n",
      "  \n",
      "accuracy= 30.25\n"
     ]
    }
   ],
   "source": [
    "print(\"confusion matrics=\",cm)\n",
    "print(\"  \")\n",
    "print(\"accuracy=\",accuracy*1000)"
   ]
  },
  {
   "cell_type": "markdown",
   "metadata": {},
   "source": [
    "# With entropy"
   ]
  },
  {
   "cell_type": "code",
   "execution_count": 46,
   "metadata": {},
   "outputs": [
    {
     "data": {
      "text/plain": [
       "DecisionTreeClassifier(ccp_alpha=0.0, class_weight=None, criterion='entropy',\n",
       "                       max_depth=None, max_features=None, max_leaf_nodes=None,\n",
       "                       min_impurity_decrease=0.0, min_impurity_split=None,\n",
       "                       min_samples_leaf=1, min_samples_split=2,\n",
       "                       min_weight_fraction_leaf=0.0, presort='deprecated',\n",
       "                       random_state=10, splitter='best')"
      ]
     },
     "execution_count": 46,
     "metadata": {},
     "output_type": "execute_result"
    }
   ],
   "source": [
    "clf_entropy = tree.DecisionTreeClassifier(criterion = \"entropy\", random_state = 10)\n",
    "clf_entropy.fit(X_train, y_train)"
   ]
  },
  {
   "cell_type": "code",
   "execution_count": 47,
   "metadata": {},
   "outputs": [],
   "source": [
    "entropy_y_pred=clf_entropy.predict(X_test)"
   ]
  },
  {
   "cell_type": "code",
   "execution_count": 48,
   "metadata": {},
   "outputs": [],
   "source": [
    "cm_entopy = confusion_matrix(y_test,entropy_y_pred)"
   ]
  },
  {
   "cell_type": "code",
   "execution_count": 49,
   "metadata": {},
   "outputs": [],
   "source": [
    "entropy_accuracy = accuracy_score(y_test,entropy_y_pred)"
   ]
  },
  {
   "cell_type": "code",
   "execution_count": 50,
   "metadata": {},
   "outputs": [
    {
     "name": "stdout",
     "output_type": "stream",
     "text": [
      "confusion matrics= [[1 3 7 ... 3 2 2]\n",
      " [2 4 3 ... 3 2 4]\n",
      " [1 2 4 ... 0 3 1]\n",
      " ...\n",
      " [1 6 3 ... 0 5 2]\n",
      " [3 2 4 ... 2 2 4]\n",
      " [5 1 6 ... 6 6 4]]\n",
      "  \n",
      "accuracy= 32.4\n"
     ]
    }
   ],
   "source": [
    "print(\"confusion matrics=\",cm_entopy)\n",
    "print(\"  \")\n",
    "print(\"accuracy=\",l*entropy_accuracy*100)"
   ]
  },
  {
   "cell_type": "markdown",
   "metadata": {},
   "source": [
    "# Support Vector Machines"
   ]
  },
  {
   "cell_type": "code",
   "execution_count": 51,
   "metadata": {},
   "outputs": [],
   "source": [
    "from sklearn import svm"
   ]
  },
  {
   "cell_type": "code",
   "execution_count": 52,
   "metadata": {},
   "outputs": [
    {
     "data": {
      "text/plain": [
       "SVC(C=1.0, break_ties=False, cache_size=200, class_weight=None, coef0=0.0,\n",
       "    decision_function_shape='ovr', degree=3, gamma='scale', kernel='rbf',\n",
       "    max_iter=-1, probability=False, random_state=None, shrinking=True,\n",
       "    tol=0.001, verbose=False)"
      ]
     },
     "execution_count": 52,
     "metadata": {},
     "output_type": "execute_result"
    }
   ],
   "source": [
    "clf = svm.SVC()\n",
    "clf.fit(X_train, y_train)"
   ]
  },
  {
   "cell_type": "code",
   "execution_count": 53,
   "metadata": {},
   "outputs": [],
   "source": [
    "svm_y_pred = clf.predict(X_test)"
   ]
  },
  {
   "cell_type": "code",
   "execution_count": 54,
   "metadata": {},
   "outputs": [],
   "source": [
    "svm_cm = confusion_matrix(y_test,svm_y_pred)\n",
    "svm_accuracy = accuracy_score(y_test,svm_y_pred)"
   ]
  },
  {
   "cell_type": "code",
   "execution_count": 55,
   "metadata": {},
   "outputs": [
    {
     "name": "stdout",
     "output_type": "stream",
     "text": [
      "confusion matrics= [[0 0 0 ... 0 0 0]\n",
      " [0 0 0 ... 0 0 0]\n",
      " [0 0 0 ... 0 0 0]\n",
      " ...\n",
      " [0 0 0 ... 0 0 0]\n",
      " [0 0 0 ... 0 0 0]\n",
      " [0 0 0 ... 0 0 0]]\n",
      "  \n",
      "accuracy= 67.2\n"
     ]
    }
   ],
   "source": [
    "print(\"confusion matrics=\",svm_cm)\n",
    "print(\"  \")\n",
    "print(\"accuracy=\",l*svm_accuracy*100)"
   ]
  },
  {
   "cell_type": "markdown",
   "metadata": {},
   "source": [
    "# XGBoost"
   ]
  },
  {
   "cell_type": "code",
   "execution_count": 56,
   "metadata": {},
   "outputs": [],
   "source": [
    "X_train,X_test,y_train,y_test=train_test_split(X1,y,test_size=0.3,random_state=10) "
   ]
  },
  {
   "cell_type": "code",
   "execution_count": 57,
   "metadata": {},
   "outputs": [
    {
     "data": {
      "text/plain": [
       "(14000, 38)"
      ]
     },
     "execution_count": 57,
     "metadata": {},
     "output_type": "execute_result"
    }
   ],
   "source": [
    "X_train.shape"
   ]
  },
  {
   "cell_type": "code",
   "execution_count": 58,
   "metadata": {},
   "outputs": [],
   "source": [
    "X_train=pd.to_numeric(X_train.values.flatten())"
   ]
  },
  {
   "cell_type": "code",
   "execution_count": 59,
   "metadata": {},
   "outputs": [],
   "source": [
    "X_train=X_train.reshape((14000,38))"
   ]
  },
  {
   "cell_type": "code",
   "execution_count": 60,
   "metadata": {},
   "outputs": [],
   "source": [
    "from xgboost import XGBClassifier"
   ]
  },
  {
   "cell_type": "code",
   "execution_count": 61,
   "metadata": {},
   "outputs": [
    {
     "data": {
      "text/plain": [
       "XGBClassifier(base_score=0.5, booster='gbtree', colsample_bylevel=1,\n",
       "              colsample_bynode=1, colsample_bytree=1, gamma=0,\n",
       "              learning_rate=0.1, max_delta_step=0, max_depth=3,\n",
       "              min_child_weight=1, missing=None, n_estimators=100, n_jobs=1,\n",
       "              nthread=None, objective='multi:softprob', random_state=0,\n",
       "              reg_alpha=0, reg_lambda=1, scale_pos_weight=1, seed=None,\n",
       "              silent=None, subsample=1, verbosity=1)"
      ]
     },
     "execution_count": 61,
     "metadata": {},
     "output_type": "execute_result"
    }
   ],
   "source": [
    "model = XGBClassifier()\n",
    "model.fit(X_train, y_train)"
   ]
  },
  {
   "cell_type": "code",
   "execution_count": 62,
   "metadata": {},
   "outputs": [],
   "source": [
    "xgb_y_pred = clf.predict(X_test)"
   ]
  },
  {
   "cell_type": "code",
   "execution_count": 63,
   "metadata": {},
   "outputs": [],
   "source": [
    "xgb_cm = confusion_matrix(y_test,xgb_y_pred)\n",
    "xgb_accuracy = accuracy_score(y_test,xgb_y_pred)"
   ]
  },
  {
   "cell_type": "code",
   "execution_count": 64,
   "metadata": {},
   "outputs": [
    {
     "name": "stdout",
     "output_type": "stream",
     "text": [
      "confusion matrics= [[0 0 0 ... 0 0 0]\n",
      " [0 0 0 ... 0 0 0]\n",
      " [0 0 0 ... 0 0 0]\n",
      " ...\n",
      " [0 0 0 ... 0 0 0]\n",
      " [0 0 0 ... 0 0 0]\n",
      " [0 0 0 ... 0 0 0]]\n",
      "  \n",
      "accuracy= 69.0\n"
     ]
    }
   ],
   "source": [
    "print(\"confusion matrics=\",xgb_cm)\n",
    "print(\"  \")\n",
    "print(\"accuracy=\",l*xgb_accuracy*100)"
   ]
  },
  {
   "cell_type": "markdown",
   "metadata": {},
   "source": [
    "# CHATBOT"
   ]
  },
  {
   "cell_type": "code",
   "execution_count": 65,
   "metadata": {},
   "outputs": [],
   "source": [
    "import io\n",
    "import random\n",
    "import string\n",
    "import warnings\n",
    "import numpy as np\n",
    "import pandas as pd"
   ]
  },
  {
   "cell_type": "code",
   "execution_count": 66,
   "metadata": {},
   "outputs": [],
   "source": [
    "from sklearn import decomposition\n",
    "import matplotlib.pyplot as plt\n",
    "import warnings\n",
    "warnings.filterwarnings('ignore')"
   ]
  },
  {
   "cell_type": "code",
   "execution_count": 67,
   "metadata": {},
   "outputs": [],
   "source": [
    "from sklearn.feature_extraction.text import TfidfVectorizer\n",
    "from sklearn.metrics.pairwise import cosine_similarity"
   ]
  },
  {
   "cell_type": "code",
   "execution_count": null,
   "metadata": {},
   "outputs": [],
   "source": [
    "'''\n",
    "import nltk\n",
    "import ssl\n",
    "\n",
    "try:\n",
    "    _create_unverified_https_context = ssl._create_unverified_context\n",
    "except AttributeError:\n",
    "    pass\n",
    "else:\n",
    "    ssl._create_default_https_context = _create_unverified_https_context\n",
    "\n",
    "nltk.download()\n",
    "'''"
   ]
  },
  {
   "cell_type": "code",
   "execution_count": 68,
   "metadata": {},
   "outputs": [],
   "source": [
    "import nltk\n",
    "from nltk.stem import WordNetLemmatizer\n",
    "nltk.download('popular', quiet=True)\n",
    "f=open('chatbot.txt','r',errors = 'ignore')\n",
    "RawData=f.read()\n",
    "RawData = RawData.lower()"
   ]
  },
  {
   "cell_type": "code",
   "execution_count": 69,
   "metadata": {},
   "outputs": [],
   "source": [
    "sent_tokens = nltk.sent_tokenize(RawData)# converts to list of sentences \n",
    "word_tokens = nltk.word_tokenize(RawData)# converts to list of words"
   ]
  },
  {
   "cell_type": "code",
   "execution_count": 70,
   "metadata": {},
   "outputs": [],
   "source": [
    "lemmer = nltk.stem.WordNetLemmatizer()\n",
    "#WordNet is a semantically-oriented dictionary of English included in NLTK.\n",
    "def LemTokens(tokens):\n",
    "    return [lemmer.lemmatize(token) for token in tokens]\n",
    "remove_punct_dict = dict((ord(punct), None) for punct in string.punctuation)\n",
    "\n",
    "def LemNormalize(text):\n",
    "    return LemTokens(nltk.word_tokenize(text.lower().translate(remove_punct_dict)))"
   ]
  },
  {
   "cell_type": "code",
   "execution_count": 71,
   "metadata": {},
   "outputs": [],
   "source": [
    "GREETING_INPUTS = (\"hello\", \"hi\", \"greetings\", \"sup\", \"what's up\",\"hey\",)\n",
    "GREETING_RESPONSES = [\"Oy' mate! can i help you out today?\", \"Hello buddy! can i help you out today?\", \"*nods*\", \"Saheli at your service\", \"hello friend. can i help you out today?\", \"i am glad that you are talking to me\"]\n",
    "\n",
    "def greeting(sentence):\n",
    " \n",
    "    for word in sentence.split():\n",
    "        if word.lower() in GREETING_INPUTS:\n",
    "            return random.choice(GREETING_RESPONSES)"
   ]
  },
  {
   "cell_type": "code",
   "execution_count": 72,
   "metadata": {},
   "outputs": [],
   "source": [
    "#Various Responses out of which a random one will be picked\n",
    "QUESTIONAIRE_Qs = (\"What is your percentage in Operating Systems?\" , \"What about in Data Structures and Algorithms?\" , \"What about in Programming Concepts?\" , \"What about in in Software Engineering?\", \"What is your percentage in Computer Networks?\", \"What is your percentage in Electronics subjects?\" , \"What is your percentage in Computer Architecture?\" , \"What is your percentage in Mathematics?\" , \"What is your percentage in Communication skills?\" , \"How many hours working per day?\" , \"Rate your Logical quotient out of 10!\" , \" Number of hackathons attended?\" ,\"Rate your Coding skills out of 10.\" , \" Rate your Public speaking skills as well out of 10\" , \" Do you think you're capable of working for long time before the system?\" , \" Can you learn things on your own and be a self-taught?\" , \" Strange question, you into extracurriculars?\" , \" What interests you more, Machine Learning or app development?\" , \"Choose one: Cloud computing, database security, game development, hacking, testing, data science!\" , \" Did you take any talent tests?\" , \" Did you attend any olympiads?\" , \"What best describes your Reading and writing skills: Excellent, medium or poor\" , \"What best describes your memory skills: Excellent, medium or poor\" , \"Name the most interesting subject you are interested in CS\" , \"Do you see yourself as a developer or a Business process analyst?\" , \"Would you prefer job or higherstudies?\",\"What type of company do you want to work in?\", \"Have you taken any inputs from any seniors?\", \"Are you interested in games?\",\"What kind of books are you into? because that matters too! :P\", \"Would you prefer work or salary?\", \"Do you have other commitments like clubs and departments?\", \"What do you think best describes you best: gentle or stubborn?\", \"Which one of the following are you more inclined towards: Management or technical?\", \"Would you prefer work or salary?\", \"Are you a hard worker or a smart worker?\", \"We're almost done here! I need to know whether you like working in teams?\", \"Last question, are you a shy person, an introvert?\")\n",
    "GREAT_WORK = (\"That's amazing! \",\"Bravo, \",\"Nice, \",\"Good good.. \",\"Wohoo! \",\"I think I'm talking to an expert, \",\"I'm proud of you already haha! \", \"wow! \", \"Damn! Nice dude! \", \"Hey that's pretty awesome if you ask me! \",\"Noice! \",\"Lovely! \",\"Nerd alert! \",)\n",
    "MEDIUM_WORK = (\"hey not bad! \",\"Umm, okay..\",\"Ahem! \",\"Ahaan, \",\"Ohh \",\"Okay alright! \", \"Shouldn't be that big a problem! \", \"Oh acha, okay! \", \"That's where most of us lie, right? haha! \")\n",
    "POOR_WORK = (\"Don't worry! \",\"Tbh, I didn't enjoy that subject either \",\"Yiiikes, \",\"Oh no, \",\"It's tough, yep! \",\"It's alright, \", \"Ouch!! \", \"OOPS! \", \"Somebody wasn't paying attention, huh? \", \"Oh no..\", \"That's bad dude! \", \"It's okay, you can work on that! \",)\n",
    "FINAL_ANSWER = (\"That's the end of this quiz! After a lot of thinking, I think you should become a \", \"We've come to the end of the quiz! My research suggests that you should become a \", \"In my opinion, you should actually consider becoming a \", \" My Final say is, You're best suited for the role of a \", \"You must be wondering what I found out! You should definitely be a \", \"That's the end of this quiz! After extenive research of your personal choices and academic backgroun, you should definitely be a \")"
   ]
  },
  {
   "cell_type": "code",
   "execution_count": 73,
   "metadata": {},
   "outputs": [
    {
     "name": "stdout",
     "output_type": "stream",
     "text": [
      "SAHELI: Hey\n",
      "Hi\n",
      "SAHELI: My name is Saheli. I aim to help you out with career guidance. If you want to exit, type Bye!*nods*! I believe you're confused about your ideal job role. If you want to take a quick questionnaire, type 'start'\n",
      "start\n",
      "SAHELI: Great, Let's begin the quiz then\n",
      "SAHELI:  What is your percentage in Operating Systems?\n",
      "40\n",
      "SAHELI: Oh acha, okay! What about in Data Structures and Algorithms?\n",
      "20\n",
      "SAHELI: Ouch!! What about in Programming Concepts?\n",
      "60\n",
      "SAHELI: That's where most of us lie, right? haha! What about in in Software Engineering?\n",
      "30\n",
      "SAHELI: Oh no, What is your percentage in Computer Networks?\n",
      "10\n",
      "SAHELI: Oh no, What is your percentage in Electronics subjects?\n",
      "20\n",
      "SAHELI: Tbh, I didn't enjoy that subject either What is your percentage in Computer Architecture?\n",
      "20\n",
      "SAHELI: Ouch!! What is your percentage in Mathematics?\n",
      "90\n",
      "SAHELI: Bravo, What is your percentage in Communication skills?\n",
      "49\n",
      "SAHELI: That's where most of us lie, right? haha! How many hours working per day?\n",
      "12\n",
      "SAHELI: I think I'm talking to an expert, Rate your Logical quotient out of 10!\n",
      "4\n",
      "SAHELI:  Number of hackathons attended?\n",
      "1\n",
      "SAHELI: Ouch!! Rate your Coding skills out of 10.\n",
      "8\n",
      "SAHELI: Damn! Nice dude!  Rate your Public speaking skills as well out of 10\n",
      "6\n",
      "SAHELI:  Do you think you're capable of working for long time before the system?\n",
      "yes\n",
      "SAHELI:  Can you learn things on your own and be a self-taught?\n",
      "yes\n",
      "SAHELI:  Strange question, you into extracurriculars?\n",
      "yes\n",
      "SAHELI:  What interests you more, Machine Learning or app development?\n",
      "Machine learning\n",
      "SAHELI: Choose one: Cloud computing, database security, game development, hacking, testing, data science!\n",
      "Data science\n",
      "SAHELI:  Did you take any talent tests?\n",
      "No\n",
      "SAHELI:  Did you attend any olympiads?\n",
      "No\n",
      "SAHELI: What best describes your Reading and writing skills: Excellent, medium or poor\n",
      "Medium\n",
      "SAHELI: What best describes your memory skills: Excellent, medium or poor\n",
      "Poor\n",
      "SAHELI: Name the most interesting subject you are interested in CS\n",
      "OOP\n",
      "SAHELI: Do you see yourself as a developer or a Business process analyst?\n",
      "Developer\n",
      "SAHELI: Would you prefer job or higherstudies?\n",
      "Job\n",
      "SAHELI: What type of company do you want to work in?\n",
      "Product based\n",
      "SAHELI: Have you taken any inputs from any seniors?\n",
      "yes\n",
      "SAHELI: Are you interested in games?\n",
      "no\n",
      "SAHELI: What kind of books are you into? because that matters too! :P\n",
      "fiction\n",
      "SAHELI: Would you prefer work or salary?\n",
      "salary\n",
      "SAHELI: Do you have other commitments like clubs and departments?\n",
      "no\n",
      "SAHELI: What do you think best describes you best: gentle or stubborn?\n",
      "stubborn\n",
      "SAHELI: Which one of the following are you more inclined towards: Management or technical?\n",
      "technical\n",
      "SAHELI: Would you prefer work or salary?\n",
      "salary\n",
      "SAHELI: Are you a hard worker or a smart worker?\n",
      "hard worker\n",
      "SAHELI: We're almost done here! I need to know whether you like working in teams?\n",
      "yes\n",
      "SAHELI: Last question, are you a shy person, an introvert?\n",
      "yes\n",
      "Saheli: WELL DONE!! Now please wait for me to think about your most optimal career path!\n",
      "(20001, 14)\n",
      "We've come to the end of the quiz! My research suggests that you should become a Network Security Administrator\n",
      "Saheli: Thank you for taking this quiz, please say 'bye' to exit\n"
     ]
    },
    {
     "ename": "IndexError",
     "evalue": "tuple index out of range",
     "output_type": "error",
     "traceback": [
      "\u001b[1;31m---------------------------------------------------------------------------\u001b[0m",
      "\u001b[1;31mIndexError\u001b[0m                                Traceback (most recent call last)",
      "\u001b[1;32m<ipython-input-73-5220bf8853fd>\u001b[0m in \u001b[0;36m<module>\u001b[1;34m\u001b[0m\n\u001b[0;32m     88\u001b[0m             \u001b[1;32mif\u001b[0m\u001b[1;33m(\u001b[0m\u001b[0mquestion_no\u001b[0m \u001b[1;33m>\u001b[0m \u001b[1;36m8\u001b[0m\u001b[1;33m)\u001b[0m\u001b[1;33m:\u001b[0m\u001b[1;33m\u001b[0m\u001b[1;33m\u001b[0m\u001b[0m\n\u001b[0;32m     89\u001b[0m                 \u001b[0mpercentage_question\u001b[0m \u001b[1;33m=\u001b[0m \u001b[1;32mFalse\u001b[0m\u001b[1;33m\u001b[0m\u001b[1;33m\u001b[0m\u001b[0m\n\u001b[1;32m---> 90\u001b[1;33m             \u001b[0mprint\u001b[0m\u001b[1;33m(\u001b[0m\u001b[1;34m\"SAHELI: \"\u001b[0m \u001b[1;33m+\u001b[0m \u001b[0mrelative_response\u001b[0m \u001b[1;33m+\u001b[0m \u001b[0mQUESTIONAIRE_Qs\u001b[0m\u001b[1;33m[\u001b[0m\u001b[0mquestion_no\u001b[0m\u001b[1;33m]\u001b[0m\u001b[1;33m)\u001b[0m\u001b[1;33m\u001b[0m\u001b[1;33m\u001b[0m\u001b[0m\n\u001b[0m\u001b[0;32m     91\u001b[0m \u001b[1;33m\u001b[0m\u001b[0m\n\u001b[0;32m     92\u001b[0m             \u001b[0mcollect_answer\u001b[0m \u001b[1;33m=\u001b[0m \u001b[1;32mTrue\u001b[0m\u001b[1;33m\u001b[0m\u001b[1;33m\u001b[0m\u001b[0m\n",
      "\u001b[1;31mIndexError\u001b[0m: tuple index out of range"
     ]
    }
   ],
   "source": [
    "flag = True\n",
    " \n",
    "relative_response = \" \"\n",
    "\n",
    "in_quiz = False\n",
    "collect_answer = False\n",
    "percentage_question = True\n",
    "question_no = -1;\n",
    "\n",
    "ANSWERS = []\n",
    "\n",
    "print(\"SAHELI: Hey\")\n",
    "while(flag==True):\n",
    "    user_response = input()\n",
    "    user_response=user_response.lower()\n",
    "    \n",
    "    if(user_response!='bye'):\n",
    "        if(user_response=='thanks' or user_response=='thank you' ):\n",
    "            flag=False\n",
    "            print(\"SAHELI: You are welcome..\")\n",
    "        else:\n",
    "            if(greeting(user_response)!=None):\n",
    "                print(\"SAHELI: \"+ \"My name is Saheli. I aim to help you out with career guidance. If you want to exit, type Bye!\" + greeting(user_response) + \"! I believe you're confused about your ideal job role. If you want to take a quick questionnaire, type 'start'\")\n",
    "\n",
    "        if(user_response=='start'):\n",
    "            in_quiz = True\n",
    "            print(\"SAHELI: Great, Let's begin the quiz then\")\n",
    "            \n",
    "        if(user_response.isdigit()):\n",
    "            if(percentage_question):\n",
    "                if(int(user_response) < 35):\n",
    "                    relative_response = random.choice(POOR_WORK)\n",
    "                if((int(user_response) < 65) & (int(user_response) > 35)):\n",
    "                    relative_response = random.choice(MEDIUM_WORK)\n",
    "                if(int(user_response) > 65):\n",
    "                    relative_response = random.choice(GREAT_WORK)\n",
    "            else:\n",
    "                if(int(user_response) > 6):\n",
    "                    relative_response = random.choice(GREAT_WORK)\n",
    "                if((int(user_response) < 6) & (int(user_response) > 4)):\n",
    "                    relative_response = random.choice(MEDIUM_WORK)\n",
    "                if(int(user_response) < 4):\n",
    "                    relative_response = random.choice(POOR_WORK)\n",
    "        if(in_quiz):\n",
    "            ####store the given answer in an array\"\n",
    "            ######################################\n",
    "            ANSWERS.append(user_response)\n",
    "            \n",
    "            question_no = question_no + 1\n",
    "            if(question_no == 38):\n",
    "                in_quiz = False\n",
    "                ###Call model with stored value\"\n",
    "                ###############################\n",
    "                ###############################\n",
    "                print(\"Saheli: WELL DONE!! Now please wait for me to think about your most optimal career path!\")\n",
    "                ANSWERS.remove('start')\n",
    "                for i in range(14,38):\n",
    "                    ANSWERS[14:38] = labelencoder.fit_transform(ANSWERS[14:38])\n",
    "                for i in range(0,14):\n",
    "                    ANSWERS[i]= int(ANSWERS[i])\n",
    "                ANSWERS_ARRAY = np.asarray(ANSWERS)\n",
    "                data123=data\n",
    "                ANS=ANSWERS_ARRAY\n",
    "                ANS.reshape(1,38)\n",
    "                ANS1=np.reshape(ANS,(1,38))\n",
    "                new_data = np.append(data123,ANS1,axis=0)\n",
    "                new_data_for_normalization = new_data[:,:14]\n",
    "                normalized_data_for_prediction = Normalizer().fit_transform(new_data_for_normalization)\n",
    "                print(normalized_data_for_prediction.shape)\n",
    "                remaining_data = new_data[:,14:]\n",
    "                new_df = np.append(normalized_data_for_prediction,remaining_data,axis=1)\n",
    "                prediction_array = new_df[20000,:]\n",
    "                prediction_array.reshape(1,-1)\n",
    "                prediction_array2d= [prediction_array]\n",
    "                clf = svm.SVC()\n",
    "                clf.fit(X_train, y_train)\n",
    "                predicted_value = clf.predict(prediction_array2d)\n",
    "                \n",
    "                \n",
    "                print(random.choice(FINAL_ANSWER) + list(Dict.keys())[list(Dict.values()).index(predicted_value[0])] )\n",
    "                data123=data\n",
    "                ANS=ANSWERS_ARRAY\n",
    "                #predict the output of the model using ANSWERS\n",
    "                \n",
    "                print(\"Saheli: Thank you for taking this quiz, please say 'bye' to exit\")\n",
    "                \n",
    "                \n",
    "            if(question_no > 8):\n",
    "                percentage_question = False\n",
    "            print(\"SAHELI: \" + relative_response + QUESTIONAIRE_Qs[question_no])\n",
    "\n",
    "            collect_answer = True\n",
    "            relative_response = \"\"\n",
    "            \n",
    "    else:\n",
    "        flag=False\n",
    "        print(\"SAHELI: Bye! take care..\")\n",
    "        \n",
    "  \n",
    "        "
   ]
  },
  {
   "cell_type": "code",
   "execution_count": null,
   "metadata": {},
   "outputs": [],
   "source": []
  }
 ],
 "metadata": {
  "kernelspec": {
   "display_name": "Python 3",
   "language": "python",
   "name": "python3"
  },
  "language_info": {
   "codemirror_mode": {
    "name": "ipython",
    "version": 3
   },
   "file_extension": ".py",
   "mimetype": "text/x-python",
   "name": "python",
   "nbconvert_exporter": "python",
   "pygments_lexer": "ipython3",
   "version": "3.8.5"
  }
 },
 "nbformat": 4,
 "nbformat_minor": 4
}
